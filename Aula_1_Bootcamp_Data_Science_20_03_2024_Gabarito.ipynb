{
  "nbformat": 4,
  "nbformat_minor": 0,
  "metadata": {
    "colab": {
      "provenance": [],
      "collapsed_sections": [
        "G_1VHTFIHf1-",
        "vKUfgpFxHmGv",
        "qoyhmohFHtiG",
        "egv-QGxpHzK-"
      ],
      "authorship_tag": "ABX9TyOxzIObE+fUEwkQ+c4H+a+1",
      "include_colab_link": true
    },
    "kernelspec": {
      "name": "python3",
      "display_name": "Python 3"
    },
    "language_info": {
      "name": "python"
    }
  },
  "cells": [
    {
      "cell_type": "markdown",
      "metadata": {
        "id": "view-in-github",
        "colab_type": "text"
      },
      "source": [
        "<a href=\"https://colab.research.google.com/github/BootcampMarcosFA/NotebooksBootcamp_2ed/blob/main/Aula_1_Bootcamp_Data_Science_20_03_2024_Gabarito.ipynb\" target=\"_parent\"><img src=\"https://colab.research.google.com/assets/colab-badge.svg\" alt=\"Open In Colab\"/></a>"
      ]
    },
    {
      "cell_type": "markdown",
      "source": [
        "# Aula 1 - Bootcamp Data Science 20/03/2024\n",
        "\n",
        "Python é uma linguagem de programação criada por Guido Van Rossum e tem como objetivo o uso geral, sendo considerada o canivete suíço das linguagens de programação.\n",
        "\n",
        "É Open Source e grátis. Diversos pacotes são feitos para os mais diferentes tipos de aplicações, incluindo Data Science, Machine Learning e etc."
      ],
      "metadata": {
        "id": "XxCenW9PHWFw"
      }
    },
    {
      "cell_type": "markdown",
      "source": [
        "## Objetivos da aula\n",
        "\n",
        "\n",
        "*   Usem os comandos básicos do Python;\n",
        "*   Entendam o que é uma variável;\n",
        "*   Distinguam os tipos básicos de dados;\n",
        "*   Programem usando estruturas condicionais;\n",
        "*   Utilizem as listas do Python;\n",
        "*   Implementem estruturas de repetição;\n",
        "*   Identifiquem as diferenças da lista para outros tipos de estrutura de dados.\n",
        "\n"
      ],
      "metadata": {
        "id": "lzecyGpthOyd"
      }
    },
    {
      "cell_type": "markdown",
      "source": [
        "## Comandos Básicos do Python"
      ],
      "metadata": {
        "id": "G_1VHTFIHf1-"
      }
    },
    {
      "cell_type": "markdown",
      "source": [
        "O Python está funcionando e esperando os comandos para funcionar. Entretanto, Python não é o ChatGPT, é necessário dar comandos que ele entenda para funcionar."
      ],
      "metadata": {
        "id": "ijUTg97gi63d"
      }
    },
    {
      "cell_type": "code",
      "execution_count": null,
      "metadata": {
        "colab": {
          "base_uri": "https://localhost:8080/",
          "height": 141
        },
        "id": "2J-YMSPGHCz8",
        "outputId": "03297ac6-a15e-44ce-ab82-e1887cca210b"
      },
      "outputs": [
        {
          "output_type": "error",
          "ename": "NameError",
          "evalue": "name 'abc' is not defined",
          "traceback": [
            "\u001b[0;31m---------------------------------------------------------------------------\u001b[0m",
            "\u001b[0;31mNameError\u001b[0m                                 Traceback (most recent call last)",
            "\u001b[0;32m<ipython-input-1-03cfd743661f>\u001b[0m in \u001b[0;36m<cell line: 1>\u001b[0;34m()\u001b[0m\n\u001b[0;32m----> 1\u001b[0;31m \u001b[0mabc\u001b[0m\u001b[0;34m\u001b[0m\u001b[0;34m\u001b[0m\u001b[0m\n\u001b[0m",
            "\u001b[0;31mNameError\u001b[0m: name 'abc' is not defined"
          ]
        }
      ],
      "source": [
        "abc"
      ]
    },
    {
      "cell_type": "markdown",
      "source": [
        "Um comando comumente usado é o \"print\", com o print podemos mostrar na tela qualquer texto que quisermos. Vamos mostrar na tela a mensagem \"Olá, mundo!\""
      ],
      "metadata": {
        "id": "SRH5P1oYjPyc"
      }
    },
    {
      "cell_type": "code",
      "source": [
        "print('Olá, mundo!')"
      ],
      "metadata": {
        "colab": {
          "base_uri": "https://localhost:8080/"
        },
        "id": "YmKwqZPfjeWs",
        "outputId": "03fb2a53-7889-4a04-d479-7a128714e43e"
      },
      "execution_count": null,
      "outputs": [
        {
          "output_type": "stream",
          "name": "stdout",
          "text": [
            "Olá, mundo!\n"
          ]
        }
      ]
    },
    {
      "cell_type": "markdown",
      "source": [
        "Esse é um dos primeiros exercícios feitos por alunos aprendendo novas línguas, e no Python não seria diferente."
      ],
      "metadata": {
        "id": "lCJciP-mjuDU"
      }
    },
    {
      "cell_type": "markdown",
      "source": [
        "Outra função básica do Python é a de comentar os nossos script. Basta inserimos \"#\" no inicio da linha. Assim conseguiremos manter nosso código limpo e documentado."
      ],
      "metadata": {
        "id": "l-pIx50_kGAE"
      }
    },
    {
      "cell_type": "code",
      "source": [
        "#Mostra na tela a mensagem \"Olá, mundo!\"\n",
        "print(\"Olá, mundo!\")"
      ],
      "metadata": {
        "colab": {
          "base_uri": "https://localhost:8080/"
        },
        "id": "gEhrOuWwkEwU",
        "outputId": "fb2d5daf-4970-41c0-f4cb-be34de5697b0"
      },
      "execution_count": null,
      "outputs": [
        {
          "output_type": "stream",
          "name": "stdout",
          "text": [
            "Olá, mundo!\n"
          ]
        }
      ]
    },
    {
      "cell_type": "markdown",
      "source": [
        "Outras funções básicas do Python são as funções matemáticas, no Python podemos nativamente:\n",
        "\n",
        "\n",
        "*   Somar\n",
        "*   Subtrair\n",
        "*   Multiplicar\n",
        "*   Dividir\n",
        "*   Potencializar\n",
        "\n",
        "Além disso, podemos pegar o resto da divisão.\n",
        "\n"
      ],
      "metadata": {
        "id": "JMlzAr-BlFZc"
      }
    },
    {
      "cell_type": "code",
      "source": [
        "#Soma\n",
        "print(1+3)\n",
        "\n",
        "#Subtrair\n",
        "print(1-3)\n",
        "\n",
        "#Multiplicar\n",
        "print(1*3)\n",
        "\n",
        "#Dividir\n",
        "print(1/3)\n",
        "\n",
        "#Potencializar\n",
        "print(1**3)\n",
        "\n",
        "#Resto\n",
        "print(3%1)"
      ],
      "metadata": {
        "colab": {
          "base_uri": "https://localhost:8080/"
        },
        "id": "Ck1sbgVAmWT9",
        "outputId": "cea582f8-6208-40a5-8a6a-d97655005bf0"
      },
      "execution_count": null,
      "outputs": [
        {
          "output_type": "stream",
          "name": "stdout",
          "text": [
            "4\n",
            "-2\n",
            "3\n",
            "0.3333333333333333\n",
            "1\n",
            "0\n"
          ]
        }
      ]
    },
    {
      "cell_type": "markdown",
      "source": [
        "Com isso já podemos fazer operações mais complexas.\n",
        "\n",
        "Por exemplo, supondo que eu fui para um agiota e pedi para ele 130 reais. Ele me disse que me emprestaria com prazo para pagar de 3 meses com juros de 10% ao mês. Sabendo que a fórmula do montante devido pelo juros compostos é:\n",
        "fv = pv * (1 + i)^t.\n",
        "\n",
        "Como que eu calcularia no Python o quanto eu vou ter que pagar no total para o agiota?"
      ],
      "metadata": {
        "id": "H3crYgfjnrUU"
      }
    },
    {
      "cell_type": "code",
      "source": [
        "#fv =?\n",
        "#pv = 130\n",
        "#i = 0.1\n",
        "#t = 3\n",
        "\n",
        "print(130 * (1.1) ** 3)"
      ],
      "metadata": {
        "colab": {
          "base_uri": "https://localhost:8080/"
        },
        "id": "96ZdgZFxo2e8",
        "outputId": "f10dba42-92ad-4f6a-9810-e94466b5a6d2"
      },
      "execution_count": null,
      "outputs": [
        {
          "output_type": "stream",
          "name": "stdout",
          "text": [
            "173.03000000000006\n"
          ]
        }
      ]
    },
    {
      "cell_type": "markdown",
      "source": [
        "Uma outra função do print, é mostrar na tela diferentes frases e juntá-las. Por exemplo, podemos fazer uma resposta completa."
      ],
      "metadata": {
        "id": "uY04qEQ1pQJj"
      }
    },
    {
      "cell_type": "code",
      "source": [
        "print('Eu devo pagar para o agiota: ', 130 * (1.1) ** 3)\n"
      ],
      "metadata": {
        "colab": {
          "base_uri": "https://localhost:8080/"
        },
        "id": "e-MpI_jKpPST",
        "outputId": "f104badd-b4ef-424d-b984-960a66beb963"
      },
      "execution_count": null,
      "outputs": [
        {
          "output_type": "stream",
          "name": "stdout",
          "text": [
            "Eu devo pagar para o agiota:  173.03000000000006\n"
          ]
        }
      ]
    },
    {
      "cell_type": "markdown",
      "source": [
        "## Variáveis do Python"
      ],
      "metadata": {
        "id": "vKUfgpFxHmGv"
      }
    },
    {
      "cell_type": "markdown",
      "source": [
        "Agora vamos supor que eu quero ver outros valores e outros prazos. Eu poderia simplesmente mudá-los um por um. Entretanto, o processo se tornaria repetitivo e tedioso. Há uma maneira mais fácil de resolver isso.\n",
        "\n",
        "Por exemplo, vamos supor que eu queira mudar para 100 reais emprestados com 5% de juros."
      ],
      "metadata": {
        "id": "16bjtwRPR1oa"
      }
    },
    {
      "cell_type": "code",
      "source": [
        "print(100 * (1.05) ** 3)"
      ],
      "metadata": {
        "colab": {
          "base_uri": "https://localhost:8080/"
        },
        "id": "73HjlsudH62v",
        "outputId": "d00d0193-1d62-48ad-f583-89de2ee5d7c3"
      },
      "execution_count": null,
      "outputs": [
        {
          "output_type": "stream",
          "name": "stdout",
          "text": [
            "115.76250000000002\n"
          ]
        }
      ]
    },
    {
      "cell_type": "markdown",
      "source": [
        "Como vimos antes esse cálculo é feito pela fórmula: fv = pv * (1 + i)^t. E se pudessemos definir previamente antes esses valores e então calculá-los?"
      ],
      "metadata": {
        "id": "pyO6Sy5lZ-7X"
      }
    },
    {
      "cell_type": "code",
      "source": [
        "# fv = ?\n",
        "pv = 100\n",
        "i = 0.05\n",
        "t = 3\n",
        "\n",
        "print(pv*(1+i)**t)\n",
        "\n",
        "#Da mesma forma, podemos definir:\n",
        "fv = pv*(1+i)**t\n",
        "print(fv)"
      ],
      "metadata": {
        "colab": {
          "base_uri": "https://localhost:8080/"
        },
        "id": "1owfw_kBaXuC",
        "outputId": "c87a76a9-9309-44ee-9324-64e7e31f3b62"
      },
      "execution_count": null,
      "outputs": [
        {
          "output_type": "stream",
          "name": "stdout",
          "text": [
            "115.76250000000002\n",
            "115.76250000000002\n"
          ]
        }
      ]
    },
    {
      "cell_type": "markdown",
      "source": [
        "No Python, uma variável permite que você referencie um valor por um nome. Podemos criar uma variável x com o valor 5 usando o \"=\".\n",
        "\n",
        "\"x = 5\"\n",
        "\n",
        "Lembrando que o \"=\" sempre é utilizado no Python para assinalar algo, nunca para testar a igualdade (veremos isso depois)."
      ],
      "metadata": {
        "id": "jBfXhWuqePHZ"
      }
    },
    {
      "cell_type": "markdown",
      "source": [
        "#### Exercício 1\n",
        "Crie uma variável com sua altura (ou uma altura inventada) em cm e outra com seu peso (ou um peso inventado) em kg calcule seu IMC e printe a variável IMC.\n",
        "\n",
        "IMC = peso/(altura)^2"
      ],
      "metadata": {
        "id": "ZuMVJcGlgrQ9"
      }
    },
    {
      "cell_type": "code",
      "source": [
        "altura = 1.94 #cm\n",
        "peso = 110\n",
        "\n",
        "IMC = peso / (altura**2)\n",
        "print(IMC)"
      ],
      "metadata": {
        "colab": {
          "base_uri": "https://localhost:8080/"
        },
        "id": "-WF1VIXchZRN",
        "outputId": "a5d884cb-5dbc-4a31-bd26-ad81b00f2d51"
      },
      "execution_count": null,
      "outputs": [
        {
          "output_type": "stream",
          "name": "stdout",
          "text": [
            "29.227335529811885\n"
          ]
        }
      ]
    },
    {
      "cell_type": "markdown",
      "source": [
        "## Manipulação tipos básicos de dados"
      ],
      "metadata": {
        "id": "qoyhmohFHtiG"
      }
    },
    {
      "cell_type": "markdown",
      "source": [
        "Até o momento, trabalhamos com números especificamente, mas repare que dentro do python temos outros tipos básicos de dados. Iremos ver os tipos básicos e suas funções.\n",
        "\n"
      ],
      "metadata": {
        "id": "PQbHAr1FlZrs"
      }
    },
    {
      "cell_type": "markdown",
      "source": [
        "### Números"
      ],
      "metadata": {
        "id": "WzHNPITK1zbw"
      }
    },
    {
      "cell_type": "code",
      "source": [
        "Inteiro = 1\n",
        "Quebrado = 3.5"
      ],
      "metadata": {
        "id": "soWsyBhs0jtW"
      },
      "execution_count": null,
      "outputs": []
    },
    {
      "cell_type": "markdown",
      "source": [
        "Ambas as variáveis \"Inteiro\" e \"Quebrado\" são números, mas isso não significa que ambas são o mesmo tipo! Iremos utilizar uma nova função \"type()\" que tem como saída o tipo do objeto sendo testado."
      ],
      "metadata": {
        "id": "897XTlZ10qp-"
      }
    },
    {
      "cell_type": "code",
      "source": [
        "tipo_inteiro = type(Inteiro)\n",
        "tipo_quebrado = type(Quebrado)\n",
        "print(tipo_inteiro)\n",
        "print(tipo_quebrado)"
      ],
      "metadata": {
        "colab": {
          "base_uri": "https://localhost:8080/"
        },
        "id": "vUKowQWM1JV_",
        "outputId": "581a5b62-d3d6-4653-d49a-380bd1673e7a"
      },
      "execution_count": null,
      "outputs": [
        {
          "output_type": "stream",
          "name": "stdout",
          "text": [
            "<class 'int'>\n",
            "<class 'float'>\n"
          ]
        }
      ]
    },
    {
      "cell_type": "markdown",
      "source": [
        "### Strings\n",
        "\n",
        "Outro tipo básico que temos são as strings. As strings são sequências de caracteres, e podem ser definidas usando aspas simples (' ') ou duplas (\" \")."
      ],
      "metadata": {
        "id": "9G-1m9Ak16nI"
      }
    },
    {
      "cell_type": "code",
      "source": [
        "Nome = 'Marcos'\n",
        "Sobrenome = \"Reichert\"\n",
        "print(type(Nome))"
      ],
      "metadata": {
        "colab": {
          "base_uri": "https://localhost:8080/"
        },
        "id": "-7jbBAyPH7SP",
        "outputId": "60b90bc7-6036-4e11-ed5e-737decaa0c4d"
      },
      "execution_count": null,
      "outputs": [
        {
          "output_type": "stream",
          "name": "stdout",
          "text": [
            "<class 'str'>\n"
          ]
        }
      ]
    },
    {
      "cell_type": "markdown",
      "source": [
        "Assim como os números tem as operações matemáticas, as strings tem funções que são inatas a elas. Por exemplo, podemos concatenar as strings com o operador \"+\"."
      ],
      "metadata": {
        "id": "VS5DNdsD2YIZ"
      }
    },
    {
      "cell_type": "code",
      "source": [
        "#Juntando meu nome\n",
        "nome_completo = Nome + ' ' + Sobrenome\n",
        "print(nome_completo)\n",
        "\n",
        "#Exemplo mais básico\n",
        "'ab'+'cd'"
      ],
      "metadata": {
        "colab": {
          "base_uri": "https://localhost:8080/",
          "height": 53
        },
        "id": "7aSX-BPt2sEC",
        "outputId": "b0a2abaf-1253-4635-99ef-fbf75769a8f7"
      },
      "execution_count": null,
      "outputs": [
        {
          "output_type": "stream",
          "name": "stdout",
          "text": [
            "Marcos Reichert\n"
          ]
        },
        {
          "output_type": "execute_result",
          "data": {
            "text/plain": [
              "'abcd'"
            ],
            "application/vnd.google.colaboratory.intrinsic+json": {
              "type": "string"
            }
          },
          "metadata": {},
          "execution_count": 18
        }
      ]
    },
    {
      "cell_type": "markdown",
      "source": [
        "Outra maneira de concatenar uma string é com a função \".format()\"."
      ],
      "metadata": {
        "id": "c5aC6IqL3KiC"
      }
    },
    {
      "cell_type": "code",
      "source": [
        "mensagem = 'Olá, {}! Seja bem-vindo.'.format(nome_completo)\n",
        "print(mensagem)"
      ],
      "metadata": {
        "colab": {
          "base_uri": "https://localhost:8080/"
        },
        "id": "Kt-08LNO35ls",
        "outputId": "fcb347fe-7798-4845-86f1-fadc3854f740"
      },
      "execution_count": null,
      "outputs": [
        {
          "output_type": "stream",
          "name": "stdout",
          "text": [
            "Olá, Marcos Reichert! Seja bem-vindo.\n"
          ]
        }
      ]
    },
    {
      "cell_type": "markdown",
      "source": [
        "### Booleanos\n",
        "\n",
        "Booleanos representam os valores verdadeiro (True) e falso (False). São usados principalmente em expressões lógicas e estruturas de controle de fluxo."
      ],
      "metadata": {
        "id": "7BdZ66sGg1v1"
      }
    },
    {
      "cell_type": "code",
      "source": [
        "##Exemplo\n",
        "tem_mestrado = True\n",
        "tem_doutorado = False\n",
        "type(tem_mestrado)"
      ],
      "metadata": {
        "colab": {
          "base_uri": "https://localhost:8080/"
        },
        "id": "4BZXVcvjha7n",
        "outputId": "23360628-d74c-476d-8896-cf2dbfcbd7da"
      },
      "execution_count": null,
      "outputs": [
        {
          "output_type": "execute_result",
          "data": {
            "text/plain": [
              "bool"
            ]
          },
          "metadata": {},
          "execution_count": 3
        }
      ]
    },
    {
      "cell_type": "markdown",
      "source": [
        "Podemos utilizar as booleanas com os operadores lógicos. OR, AND, NOT."
      ],
      "metadata": {
        "id": "36mMPPsxhpg2"
      }
    },
    {
      "cell_type": "code",
      "source": [
        "#Testo se tenho Doutorado E Mestrado\n",
        "tem_mestrado_e_doutorado = tem_mestrado and tem_doutorado\n",
        "print(tem_mestrado_e_doutorado) #Queremos falso\n",
        "\n",
        "#Testo se tenho Doutorado OU Mestrado\n",
        "tem_mestrado_ou_doutorado = tem_mestrado or tem_doutorado\n",
        "print(tem_mestrado_ou_doutorado) #Queremos true\n",
        "\n",
        "#Testo se tenho Doutorado e Mestrado\n",
        "nao_tem_mestrado = tem_mestrado and tem_doutorado\n",
        "print(nao_tem_mestrado) # Queremos falso"
      ],
      "metadata": {
        "colab": {
          "base_uri": "https://localhost:8080/"
        },
        "id": "2xmtZuIdJMTC",
        "outputId": "182798c1-df4a-4aab-e93a-70a54fe27482"
      },
      "execution_count": null,
      "outputs": [
        {
          "output_type": "stream",
          "name": "stdout",
          "text": [
            "False\n",
            "True\n",
            "False\n"
          ]
        }
      ]
    },
    {
      "cell_type": "markdown",
      "source": [
        "As booleanas são resultados também para testes lógicos que fazemos no Python Por exemplo, podemos comparar se uma variável é menor, maior ou igual que outra."
      ],
      "metadata": {
        "id": "nUd2wbyvRYPZ"
      }
    },
    {
      "cell_type": "code",
      "source": [
        "#dois numeros\n",
        "a = 8\n",
        "b = 4\n",
        "\n",
        "# a igual a b?\n",
        "print(a == b)\n",
        "\n",
        "# a menor a b?\n",
        "print(a < b)\n",
        "\n",
        "# a maior a b?\n",
        "print(a > b)\n",
        "\n",
        "#também temos o menor/maior ou igual!\n",
        "print(a >= b)"
      ],
      "metadata": {
        "colab": {
          "base_uri": "https://localhost:8080/"
        },
        "id": "GTxMEbhXRirp",
        "outputId": "8192edd8-5511-4a3f-d47d-ef9743fec6b4"
      },
      "execution_count": null,
      "outputs": [
        {
          "output_type": "stream",
          "name": "stdout",
          "text": [
            "False\n",
            "False\n",
            "True\n",
            "True\n"
          ]
        }
      ]
    },
    {
      "cell_type": "markdown",
      "source": [
        "#### Exercício 2\n",
        "Printe na tela uma mensagem dizendo:\n",
        "\n",
        "\"Eu, (nome), pagarei daqui a (n meses até pagamento da divida) meses a quantia de (quantia devida) reais!\""
      ],
      "metadata": {
        "id": "9fsWwW4ql8zt"
      }
    },
    {
      "cell_type": "code",
      "source": [
        "nome = \"Marcos\" # nome\n",
        "pv = 150 # dinheiro emprestado\n",
        "i = 0.15 # juros\n",
        "t = 6 # meses\n",
        "fv = pv*(1+i)**t #cálculo\n",
        "\n",
        "mensagem = \"Eu, {}, pagarei daqui a {} meses a quantia de {} reais!\".format(nome, t, fv)\n",
        "\n",
        "print(mensagem)\n",
        "\n"
      ],
      "metadata": {
        "colab": {
          "base_uri": "https://localhost:8080/"
        },
        "id": "943UlUXamZ_-",
        "outputId": "74218884-0f31-450e-bd7e-ed7e000549d9"
      },
      "execution_count": null,
      "outputs": [
        {
          "output_type": "stream",
          "name": "stdout",
          "text": [
            "Eu, Marcos, pagarei daqui a 6 meses a quantia de 346.9591148437499 reais!\n"
          ]
        }
      ]
    },
    {
      "cell_type": "markdown",
      "source": [
        "## Estruturas condicionais"
      ],
      "metadata": {
        "id": "egv-QGxpHzK-"
      }
    },
    {
      "cell_type": "markdown",
      "source": [
        "Com as booleanas podes utilizar as estruturas condicionais permitem que um programa tome decisões com base em condições específicas. Em Python, as estruturas condicionais mais comuns são as instruções if, elif (abreviação de \"else if\") e else. Vamos explorar cada uma delas."
      ],
      "metadata": {
        "id": "zfV3rq3CK1jj"
      }
    },
    {
      "cell_type": "markdown",
      "source": [
        "###if\n",
        "\n",
        "A instrução if define que caso uma condição seja considerada verdadeira, ela executará um bloco de código."
      ],
      "metadata": {
        "id": "NWRBw5bqMdX7"
      }
    },
    {
      "cell_type": "code",
      "source": [
        "if condição:\n",
        "    #Bloco de código a ser executado se a condição for verdadeira"
      ],
      "metadata": {
        "id": "VBQPzsWeQLFK"
      },
      "execution_count": null,
      "outputs": []
    },
    {
      "cell_type": "code",
      "source": [
        "#Numero aleatorio\n",
        "numero = 8\n",
        "\n",
        "#Testa se o número é para\n",
        "if numero%2 == 0:\n",
        "  print(\"O Número é par!\")"
      ],
      "metadata": {
        "colab": {
          "base_uri": "https://localhost:8080/"
        },
        "id": "lxyxRYjBNw4i",
        "outputId": "0d3c70ec-0c51-4b75-dfc6-e3350d1030f8"
      },
      "execution_count": null,
      "outputs": [
        {
          "output_type": "stream",
          "name": "stdout",
          "text": [
            "O Número é par!\n"
          ]
        }
      ]
    },
    {
      "cell_type": "markdown",
      "source": [
        "### elif\n",
        "\n",
        "A instrução elif é usada para verificar condições adicionais, caso a condição do if não seja satisfeita. Ela permite verificar múltiplas condições de forma encadeada."
      ],
      "metadata": {
        "id": "9gNmicV6P-2B"
      }
    },
    {
      "cell_type": "code",
      "source": [
        "if condição1:\n",
        "    # Bloco de código a ser executado se condição1 for verdadeira\n",
        "elif condição2:\n",
        "    # Bloco de código a ser executado se condição1 for falsa e condição2 for verdadeira"
      ],
      "metadata": {
        "id": "yTstLQTgPnxB"
      },
      "execution_count": null,
      "outputs": []
    },
    {
      "cell_type": "code",
      "source": [
        "#Temperatura aleatoria\n",
        "temperatura = 35\n",
        "\n",
        "if temperatura < 0:\n",
        "  print(\"Tá muito frio!\")\n",
        "elif temperatura > 30:\n",
        "   print(\"Tá muito quente!\")"
      ],
      "metadata": {
        "colab": {
          "base_uri": "https://localhost:8080/"
        },
        "id": "4buZncIOQfxx",
        "outputId": "5e67333f-d903-44e1-a453-0ed7354037a6"
      },
      "execution_count": null,
      "outputs": [
        {
          "output_type": "stream",
          "name": "stdout",
          "text": [
            "Tá muito quente!\n"
          ]
        }
      ]
    },
    {
      "cell_type": "markdown",
      "source": [
        "### else\n",
        "\n",
        "A instrução else é usada para executar um bloco de código quando nenhuma das condições anteriores é verdadeira."
      ],
      "metadata": {
        "id": "clmxSnjUUURR"
      }
    },
    {
      "cell_type": "code",
      "source": [
        "if condição:\n",
        "    # Bloco de código a ser executado se a condição for verdadeira\n",
        "else:\n",
        "    # Bloco de código a ser executado se a condição for falsa"
      ],
      "metadata": {
        "id": "iAv71tJyd80J"
      },
      "execution_count": null,
      "outputs": []
    },
    {
      "cell_type": "code",
      "source": [
        "#Numero aleatorio\n",
        "numero = 7\n",
        "\n",
        "#Testa se o número é par\n",
        "if numero%2 == 0:\n",
        "  print(\"O Número é par!\")\n",
        "else:\n",
        "  print(\"O Número é impar!\")"
      ],
      "metadata": {
        "colab": {
          "base_uri": "https://localhost:8080/"
        },
        "id": "LtIvTrM4d8-I",
        "outputId": "ebc02037-e7a4-4b63-8e91-90783519574c"
      },
      "execution_count": null,
      "outputs": [
        {
          "output_type": "stream",
          "name": "stdout",
          "text": [
            "O Número é impar!\n"
          ]
        }
      ]
    },
    {
      "cell_type": "markdown",
      "source": [
        "#### Exercício 3\n",
        "Façam uma estrutura condicional que analisa uma nota e dá um conceito para ela, A, B, C ou reprovado."
      ],
      "metadata": {
        "id": "5NpQZzyRjgAI"
      }
    },
    {
      "cell_type": "code",
      "source": [
        "#Nota\n",
        "nota = 85\n",
        "\n",
        "#Programinha\n",
        "if nota >= 90:\n",
        "  print(\"Aprovado com conceito A!\")\n",
        "elif nota >=75:\n",
        "  print(\"Aprovado com conceito B!\")\n",
        "elif nota >= 60:\n",
        "  print(\"Aprovado com conceito C.\")\n",
        "else:\n",
        "  print('Reprovado.')"
      ],
      "metadata": {
        "colab": {
          "base_uri": "https://localhost:8080/"
        },
        "id": "JF4_xC4xjoI3",
        "outputId": "3b602df5-9d39-4549-ce4f-94248538c0bf"
      },
      "execution_count": null,
      "outputs": [
        {
          "output_type": "stream",
          "name": "stdout",
          "text": [
            "Aprovado com conceito B!\n"
          ]
        }
      ]
    },
    {
      "cell_type": "markdown",
      "source": [
        "## Listas e indexação\n",
        "\n",
        "Uma lista em Python é uma coleção ordenada de itens. Elas podem conter qualquer tipo de dado, como números, strings, booleanos, ou até mesmo outras listas. As listas são mutáveis, o que significa que podemos alterar, adicionar ou remover elementos conforme necessário.\n",
        "\n",
        "Por exemplo, eu quero anotar a idade dos alunos presentes na sala de aula. Posso assinalá-las para diferentes variáiveis e fazer uma lista."
      ],
      "metadata": {
        "id": "H2DRfFulgW54"
      }
    },
    {
      "cell_type": "code",
      "source": [
        "#Exemplo lista\n",
        "lista = [1,2,3,4,5]\n",
        "\n",
        "#Alunos\n",
        "Joao = 18\n",
        "Maria = 20\n",
        "José = 30\n",
        "Alfredo = 25\n",
        "\n",
        "#Lista de idades\n",
        "idades = [Joao, Maria, José, Alfredo]\n",
        "\n",
        "print(lista)\n",
        "print(idades)\n",
        "print(type(lista))"
      ],
      "metadata": {
        "colab": {
          "base_uri": "https://localhost:8080/"
        },
        "id": "RITRD3EXnWoA",
        "outputId": "98544a9d-493a-4020-9685-4ddfb33b53e4"
      },
      "execution_count": null,
      "outputs": [
        {
          "output_type": "stream",
          "name": "stdout",
          "text": [
            "[1, 2, 3, 4, 5]\n",
            "[18, 20, 30, 25]\n",
            "<class 'list'>\n"
          ]
        }
      ]
    },
    {
      "cell_type": "markdown",
      "source": [
        "Com a lista de idades, agora eu posso acessar uma idade especifica, por exemplo. Isso ocorre devido a indexação. Cada elemento da lista tem um índice que nos permite acessá-lo.\n",
        "\n",
        "IMPORTANTE: No python, o índice sempre começa pelo número 0. Isso ocorre devido a convenções da programação que datam dos primórdios da programação.\n",
        "Para mais informações acessem esse [link](https://en.wikipedia.org/wiki/Zero-based_numbering)."
      ],
      "metadata": {
        "id": "r7tXTYU2k-WN"
      }
    },
    {
      "cell_type": "code",
      "source": [
        "#Quero escolher a primeira idade\n",
        "print(idades[0])\n",
        "\n",
        "#Quero escolher a última idade\n",
        "print(idades[-1])"
      ],
      "metadata": {
        "colab": {
          "base_uri": "https://localhost:8080/"
        },
        "id": "z5sPOwqYrN2_",
        "outputId": "bbd13e31-8042-418d-da66-7500040b96c6"
      },
      "execution_count": null,
      "outputs": [
        {
          "output_type": "stream",
          "name": "stdout",
          "text": [
            "18\n",
            "25\n"
          ]
        }
      ]
    },
    {
      "cell_type": "markdown",
      "source": [
        "Entretanto, acho que minha lista ficou muito confusa só com as idades, não tenho como saber de quem é qual idade.\n",
        "\n",
        "Felizmente, numa lista do python é possível inserir uma lista! Assim, irei fazer uma lista contendo o nome e a idade de cada aluno e criar uma lista contendo todas elas."
      ],
      "metadata": {
        "id": "wpjXsPfXuJeY"
      }
    },
    {
      "cell_type": "code",
      "source": [
        "#Lista de idades com o nome!\n",
        "nome_idade = [\n",
        "    [\"Joao\", Joao],\n",
        "    [\"Maria\", Maria],\n",
        "    [\"José\", José],\n",
        "    [\"Alfredo\", Alfredo]\n",
        "]\n",
        "#Mostra a nova lista\n",
        "print(nome_idade)\n",
        "\n",
        "#Mostra a primeira pessoa com sua idade\n",
        "print(nome_idade[0])"
      ],
      "metadata": {
        "colab": {
          "base_uri": "https://localhost:8080/"
        },
        "id": "dsGQNXkXudwP",
        "outputId": "d58889c0-841d-4706-96b5-0268b626721a"
      },
      "execution_count": null,
      "outputs": [
        {
          "output_type": "stream",
          "name": "stdout",
          "text": [
            "[['Joao', 18], ['Maria', 20], ['José', 30], ['Alfredo', 25]]\n",
            "['Joao', 18]\n"
          ]
        }
      ]
    },
    {
      "cell_type": "markdown",
      "source": [
        "Podemos também pegar vários elementos de uma lista. Isso é feito através do subsetting, assim como na indexação, podemos escolher pegar os três primeiros elementos de uma lista ou os três últimos. Isso é utilizado com o operador \":\". Mais especificamente podemos fatiar a nossa lista utilizando a seguinte indexação:\n",
        "\n",
        "\"[inicio:fim]\"\n",
        "\n",
        "IMPORTANTE: O índice inicial é inclusivo, e o final é exclusivo. Assim, levando em conta que temos que pegar o segundo [1] elemento de uma lista até o quarto[5], utilizamos a indexação [1:6]."
      ],
      "metadata": {
        "id": "z5it-PaWx6Zv"
      }
    },
    {
      "cell_type": "code",
      "source": [
        "#Quero somente os elementos no meio da lista, sem as pontas. O Indice 1 pega o segundo elemento e o 3 exclui o quarto elemento.\n",
        "print(nome_idade[1:3])\n",
        "\n",
        "#Se não indicarmos nenhum indice, estamos indicando que queremos pegar do inicio da lista ou até o final, por exemplo\n",
        "print(nome_idade[:2])\n",
        "print(nome_idade[2:])\n",
        "print(nome_idade[:])"
      ],
      "metadata": {
        "colab": {
          "base_uri": "https://localhost:8080/"
        },
        "id": "zJxdeXli0NIo",
        "outputId": "7dc6c3cd-946a-4dcf-ffed-51b0c63d5b6d"
      },
      "execution_count": null,
      "outputs": [
        {
          "output_type": "stream",
          "name": "stdout",
          "text": [
            "[['Maria', 20], ['José', 30]]\n",
            "[['Joao', 18], ['Maria', 20]]\n",
            "[['José', 30], ['Alfredo', 25]]\n",
            "[['Joao', 18], ['Maria', 20], ['José', 30], ['Alfredo', 25]]\n"
          ]
        }
      ]
    },
    {
      "cell_type": "code",
      "source": [],
      "metadata": {
        "id": "IsxGUj1lpVIX"
      },
      "execution_count": null,
      "outputs": []
    },
    {
      "cell_type": "markdown",
      "source": [
        "Notem que ao pegarmos um elemento de uma lista de lista estamos selecionando uma lista."
      ],
      "metadata": {
        "id": "gAG3EWVmpNjZ"
      }
    },
    {
      "cell_type": "code",
      "source": [
        "#Seleciono o primeiro nome e idade da lista\n",
        "elemento = nome_idade[0]\n",
        "print(elemento)\n",
        "print(type(elemento))"
      ],
      "metadata": {
        "colab": {
          "base_uri": "https://localhost:8080/"
        },
        "id": "DKfu8hX1pS_1",
        "outputId": "3c7145da-4b7d-4ac4-ccbf-ffd8de10e123"
      },
      "execution_count": null,
      "outputs": [
        {
          "output_type": "stream",
          "name": "stdout",
          "text": [
            "['Joao', 18]\n",
            "<class 'list'>\n"
          ]
        }
      ]
    },
    {
      "cell_type": "markdown",
      "source": [
        "Assim, podemos selecionar um elemento dessa lista. Dessa maneira, podemos selecionar um elemento de um elemento da lista."
      ],
      "metadata": {
        "id": "SNELljcape1G"
      }
    },
    {
      "cell_type": "code",
      "source": [
        "#Seleciono o nome do primeiro elemento\n",
        "primeiro_nome = elemento[0]\n",
        "print(primeiro_nome)\n",
        "print(type(primeiro_nome))\n",
        "\n",
        "#Faço isso direto sem utilizar o passo do meio\n",
        "print(nome_idade[0][0])"
      ],
      "metadata": {
        "colab": {
          "base_uri": "https://localhost:8080/"
        },
        "id": "xU2wQ8oEpoGt",
        "outputId": "c4b4120d-fe2b-401b-a8d5-b35d28870b5c"
      },
      "execution_count": null,
      "outputs": [
        {
          "output_type": "stream",
          "name": "stdout",
          "text": [
            "Joao\n",
            "<class 'str'>\n",
            "Joao\n"
          ]
        }
      ]
    },
    {
      "cell_type": "markdown",
      "source": [
        "Como mencionado, a lista é mutável, ou seja, pode ser alterada depois de definida. Veremos algumas formas de fazer isso:"
      ],
      "metadata": {
        "id": "Yd3ubdGdgBbB"
      }
    },
    {
      "cell_type": "code",
      "source": [
        "#Podemos simplesmente assinalar um novo\n",
        "idades[0] = 19\n",
        "print(idades)\n",
        "\n",
        "#As listas tem funções inatas ao tipo dela, append e insert\n",
        "# Adicionando um elemento ao final da lista\n",
        "idades.append(21)\n",
        "print(idades)\n",
        "\n",
        "# Inserindo um elemento na posição 2\n",
        "idades.insert(1, 19)\n",
        "print(idades)"
      ],
      "metadata": {
        "colab": {
          "base_uri": "https://localhost:8080/"
        },
        "id": "o9sZKzM-gJw0",
        "outputId": "03f45c50-5aff-428b-a128-2e2e1d86ff4b"
      },
      "execution_count": null,
      "outputs": [
        {
          "output_type": "stream",
          "name": "stdout",
          "text": [
            "[19, 20, 30, 25]\n",
            "[19, 20, 30, 25, 21]\n",
            "[19, 19, 20, 30, 25, 21]\n"
          ]
        }
      ]
    },
    {
      "cell_type": "markdown",
      "source": [
        "Da mesma forma, há funções inatas às listas para a remoção de elementos dela."
      ],
      "metadata": {
        "id": "LKj2ILU5iRhd"
      }
    },
    {
      "cell_type": "code",
      "source": [
        "# Removendo o elemento 21 da lista\n",
        "idades.remove(21)\n",
        "print(idades)\n",
        "\n",
        "# Removendo e retornando o elemento na posição 2\n",
        "elemento_removido = idades.pop(1)\n",
        "print(elemento_removido)\n",
        "print(idades)"
      ],
      "metadata": {
        "colab": {
          "base_uri": "https://localhost:8080/"
        },
        "id": "9JPyaeBvijaG",
        "outputId": "95ff5a03-3686-49b0-9dff-8b2484925dcd"
      },
      "execution_count": null,
      "outputs": [
        {
          "output_type": "stream",
          "name": "stdout",
          "text": [
            "[19, 19, 20, 30, 25]\n",
            "19\n",
            "[19, 20, 30, 25]\n"
          ]
        }
      ]
    },
    {
      "cell_type": "markdown",
      "source": [
        "### Exercício 4"
      ],
      "metadata": {
        "id": "ilkcCMm2lzmW"
      }
    },
    {
      "cell_type": "markdown",
      "source": [
        "\n",
        "\n",
        "1.   Crie uma lista com 5 elementos de listas com 2 elementos;\n",
        "2.   Adicione uma string na última posição;\n",
        "3.   Printe o segundo elemento do segundo elemento;\n",
        "4.   Adicione um número na primeira posição da lista;\n",
        "5.   Remova a o quinto elemento da lista."
      ],
      "metadata": {
        "id": "MR-Cb0ClnYAN"
      }
    },
    {
      "cell_type": "code",
      "source": [
        "#Cria a lista\n",
        "lista_exercicio = [\n",
        "    [1, 'a'],\n",
        "    [2, 5],\n",
        "    ['Grêmio', 'Inter'],\n",
        "    [4,8],\n",
        "    ['Python', 666]\n",
        "]\n",
        "\n",
        "#Adiciona uma string na última posição\n",
        "lista_exercicio.append('abc')\n",
        "print(lista_exercicio)\n",
        "\n",
        "#Printa o segundo elemento da segunda lista\n",
        "print(lista_exercicio[1][1])\n",
        "\n",
        "#Adicione um número na primeira posição da lista\n",
        "lista_exercicio.insert(0,80)\n",
        "print(lista_exercicio)\n",
        "\n",
        "#Remova o quinto elemento da lista\n",
        "print(lista_exercicio.pop(4))\n",
        "print(lista_exercicio)"
      ],
      "metadata": {
        "colab": {
          "base_uri": "https://localhost:8080/"
        },
        "id": "oovwdtCsnS5m",
        "outputId": "ab0d3faf-c1a0-4d03-aa44-66456bd1bbd5"
      },
      "execution_count": null,
      "outputs": [
        {
          "output_type": "stream",
          "name": "stdout",
          "text": [
            "[[1, 'a'], [2, 5], ['Grêmio', 'Inter'], [4, 8], ['Python', 666], 'abc']\n",
            "5\n",
            "[80, [1, 'a'], [2, 5], ['Grêmio', 'Inter'], [4, 8], ['Python', 666], 'abc']\n",
            "[4, 8]\n",
            "[80, [1, 'a'], [2, 5], ['Grêmio', 'Inter'], ['Python', 666], 'abc']\n"
          ]
        }
      ]
    },
    {
      "cell_type": "markdown",
      "source": [
        "## Estruturas de repetição"
      ],
      "metadata": {
        "id": "jvPI8Xc8H_IP"
      }
    },
    {
      "cell_type": "markdown",
      "source": [
        "As vezes precisamos que um código seja executado diversas vezes. Quando, por exemplo, queremos executar a mesma função para todos os elementos de uma lista. As estruturas de repetição permitem que um bloco de código seja executado repetidamente enquanto uma condição específica for verdadeira. No Python, as estruturas de repetição mais comuns são os loops for e while. Vamos explorar cada uma delas."
      ],
      "metadata": {
        "id": "bL6NzXJwIGYH"
      }
    },
    {
      "cell_type": "markdown",
      "source": [
        "### For\n",
        "O loop for é usado para iterar sobre uma sequência ou qualquer objeto iterável. A sintaxe básica é:"
      ],
      "metadata": {
        "id": "Iv-kD9o-lJLG"
      }
    },
    {
      "cell_type": "code",
      "source": [
        "for elemento in sequencia:\n",
        "    # Bloco de código a ser repetido"
      ],
      "metadata": {
        "id": "1K1P8K4qlVix"
      },
      "execution_count": null,
      "outputs": []
    },
    {
      "cell_type": "markdown",
      "source": [
        "Vamos supor que eu quero mostrar na tela todos os nomes dos alunos (de forma separada), eu posso criar uma lista com os nomes dos alunos e fazer um loop na lista executando os prints"
      ],
      "metadata": {
        "id": "75_gER5DlYAk"
      }
    },
    {
      "cell_type": "code",
      "source": [
        "#lista alunos\n",
        "alunos = ['Marcos', 'Marina', 'Alberto', 'Alexandra', 'Ricardo', 'Renata']\n",
        "\n",
        "#Printa o nome de cada aluno\n",
        "for nome in alunos:\n",
        "  print(nome)"
      ],
      "metadata": {
        "colab": {
          "base_uri": "https://localhost:8080/"
        },
        "id": "aILAc7c9s_gO",
        "outputId": "d51e0628-a39f-4a39-d63c-d4bf0fd36dbd"
      },
      "execution_count": null,
      "outputs": [
        {
          "output_type": "stream",
          "name": "stdout",
          "text": [
            "Marcos\n",
            "Marina\n",
            "Alberto\n",
            "Alexandra\n",
            "Ricardo\n",
            "Renata\n"
          ]
        }
      ]
    },
    {
      "cell_type": "markdown",
      "source": [
        "### While\n",
        "O loop while é usado para repetir um bloco de código enquanto uma condição específica for verdadeira."
      ],
      "metadata": {
        "id": "hD2K9Miauahu"
      }
    },
    {
      "cell_type": "code",
      "source": [
        "while condição:\n",
        "    # Bloco de código a ser repetido"
      ],
      "metadata": {
        "id": "OM3_R13GuiE1"
      },
      "execution_count": null,
      "outputs": []
    },
    {
      "cell_type": "markdown",
      "source": [
        "Por exemplo, vamos supor que eu queira contar até 8 e então parar. Uma maneira de fazer isso é com o seguinte código:"
      ],
      "metadata": {
        "id": "X-SdQ9ohukn-"
      }
    },
    {
      "cell_type": "code",
      "source": [
        "contador = 0\n",
        "\n",
        "while contador <= 8:\n",
        "    print(contador)\n",
        "    contador =  contador + 1"
      ],
      "metadata": {
        "colab": {
          "base_uri": "https://localhost:8080/"
        },
        "id": "p0w1m3EJu-AH",
        "outputId": "e8a31f27-c79d-4999-8e52-bb0840fdb7ab"
      },
      "execution_count": null,
      "outputs": [
        {
          "output_type": "stream",
          "name": "stdout",
          "text": [
            "0\n",
            "1\n",
            "2\n",
            "3\n",
            "4\n",
            "5\n",
            "6\n",
            "7\n",
            "8\n"
          ]
        }
      ]
    },
    {
      "cell_type": "markdown",
      "source": [
        "### Exercício 5\n",
        "\n",
        "Printe todos os elementos de uma lista de listas."
      ],
      "metadata": {
        "id": "nUyHOsFrwBDn"
      }
    },
    {
      "cell_type": "code",
      "source": [
        "lista_lista = [\n",
        "    [1,2,3],\n",
        "    [4,5],\n",
        "    [6,7,8,9]\n",
        "]\n",
        "\n",
        "for lista in lista_lista:\n",
        "    for elemento in lista:\n",
        "      print(elemento)"
      ],
      "metadata": {
        "colab": {
          "base_uri": "https://localhost:8080/"
        },
        "id": "OSfL2vBswXnF",
        "outputId": "bf4a98f0-77e5-4f12-e1a2-5ce1dd587586"
      },
      "execution_count": null,
      "outputs": [
        {
          "output_type": "stream",
          "name": "stdout",
          "text": [
            "1\n",
            "2\n",
            "3\n",
            "4\n",
            "5\n",
            "6\n",
            "7\n",
            "8\n",
            "9\n"
          ]
        }
      ]
    },
    {
      "cell_type": "markdown",
      "source": [
        "## Outros tipos de estrutura de dados\n",
        "\n",
        "### Tuplas\n",
        "As tuplas são semelhantes às listas, mas são imutáveis, ou seja, seus elementos não podem ser alterados após a criação. Elas são frequentemente usadas para representar coleções de itens que não devem ser modificados."
      ],
      "metadata": {
        "id": "naQzNrKSwtbl"
      }
    },
    {
      "cell_type": "code",
      "source": [
        "# Criando uma tupla\n",
        "tupla = (1, 2, 3, 4, 5)\n",
        "\n",
        "# Acessando elementos da tupla\n",
        "print(tupla[0])\n",
        "print(tupla[2])\n",
        "\n",
        "# Tentativa de modificar elementos da tupla (gerará um erro)\n",
        "# tupla[1] = 10"
      ],
      "metadata": {
        "id": "L7CoQ2OExnNt"
      },
      "execution_count": null,
      "outputs": []
    },
    {
      "cell_type": "markdown",
      "source": [
        "### Conjuntos\n",
        "Os conjuntos são coleções não ordenadas de elementos únicos. Eles são úteis quando precisamos armazenar itens sem nos preocuparmos com a ordem ou com a duplicação de valores."
      ],
      "metadata": {
        "id": "jRCTg0J4x_mt"
      }
    },
    {
      "cell_type": "code",
      "source": [
        "# Criando um conjunto\n",
        "conjunto = {1, 2, 3, 4, 5}\n",
        "\n",
        "# Adicionando elementos ao conjunto\n",
        "conjunto.add(6)\n",
        "print(conjunto)\n",
        "\n",
        "# Removendo elementos do conjunto\n",
        "conjunto.remove(3)\n",
        "print(conjunto)"
      ],
      "metadata": {
        "id": "JSOzbc90zRM7"
      },
      "execution_count": null,
      "outputs": []
    },
    {
      "cell_type": "markdown",
      "source": [
        "### Dicionários\n",
        "\n",
        "Os dicionários são estruturas de dados que permitem armazenar pares chave-valor. Cada valor é associado a uma chave única, o que facilita a recuperação dos dados."
      ],
      "metadata": {
        "id": "h41tssdKzNas"
      }
    },
    {
      "cell_type": "code",
      "source": [
        "# Criando um dicionário\n",
        "dicionario = {'a': 1, 'b': 2, 'c': 3}\n",
        "\n",
        "# Acessando valores através das chaves\n",
        "print(dicionario['a'])\n",
        "print(dicionario['b'])\n",
        "\n",
        "# Adicionando um novo par chave-valor\n",
        "dicionario['d'] = 4\n",
        "print(dicionario)\n",
        "\n",
        "# Removendo um par chave-valor\n",
        "del dicionario['c']\n",
        "print(dicionario)"
      ],
      "metadata": {
        "id": "NEQ6pQWt0FA1",
        "outputId": "7e37db94-b269-4365-d1ed-0e4c4b3e5f05",
        "colab": {
          "base_uri": "https://localhost:8080/"
        }
      },
      "execution_count": null,
      "outputs": [
        {
          "output_type": "stream",
          "name": "stdout",
          "text": [
            "1\n",
            "2\n",
            "{'a': 1, 'b': 2, 'c': 3, 'd': 4}\n",
            "{'a': 1, 'b': 2, 'd': 4}\n"
          ]
        }
      ]
    },
    {
      "cell_type": "markdown",
      "source": [
        "## Desafio\n",
        "\n",
        "Faça uma lista com os números dos gols do Grêmio ou do Inter nos últimos 5 anos. Calcule a média e o desvio-padrão. Não use o número 5 ou uma variável com o número 5 para o cálculo da média."
      ],
      "metadata": {
        "id": "YYaNhsVR2xMN"
      }
    },
    {
      "cell_type": "code",
      "source": [
        "#Lista gols do Grêmio\n",
        "gols_gremio = [63, 50, 44, 53, 64]\n",
        "\n",
        "#Contando os gols e os anos\n",
        "gols_totais = 0\n",
        "anos_contados = 0\n",
        "for ano in gols_gremio:\n",
        "  gols_totais = gols_totais + ano\n",
        "  anos_contados = anos_contados + 1\n",
        "\n",
        "#Printa os gols e anos\n",
        "print(gols_totais)\n",
        "print(anos_contados)\n",
        "\n",
        "#Printa media\n",
        "media = gols_totais/anos_contados\n",
        "print(media)\n",
        "\n",
        "#Calcula o desvio padrão\n",
        "desvio_total = 0\n",
        "for ano in gols_gremio:\n",
        "  desvio = (ano - media) ** 2\n",
        "  desvio_total = desvio_total + desvio\n",
        "\n",
        "desvio_padrao = (desvio_total/anos_contados) ** 0.5\n",
        "print(desvio_padrao)"
      ],
      "metadata": {
        "colab": {
          "base_uri": "https://localhost:8080/"
        },
        "id": "HWaVlWSL3PRH",
        "outputId": "56db33bd-555f-404b-f8b9-95e79d12f5fe"
      },
      "execution_count": null,
      "outputs": [
        {
          "output_type": "stream",
          "name": "stdout",
          "text": [
            "274\n",
            "5\n",
            "54.8\n",
            "7.678541528180987\n"
          ]
        }
      ]
    }
  ]
}